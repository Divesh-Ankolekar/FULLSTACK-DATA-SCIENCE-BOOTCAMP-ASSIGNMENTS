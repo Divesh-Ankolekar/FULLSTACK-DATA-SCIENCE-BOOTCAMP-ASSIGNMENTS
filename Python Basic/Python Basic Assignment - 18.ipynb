{
 "cells": [
  {
   "cell_type": "markdown",
   "id": "557de485",
   "metadata": {},
   "source": [
    "# Assignment 18"
   ]
  },
  {
   "cell_type": "markdown",
   "id": "d555c127",
   "metadata": {},
   "source": [
    "SUBMITTED BY: DIVESH ANKOLEKAR"
   ]
  },
  {
   "cell_type": "code",
   "execution_count": 7,
   "id": "54eeba54",
   "metadata": {},
   "outputs": [
    {
     "name": "stdout",
     "output_type": "stream",
     "text": [
      "def hours():\n",
      "    print(\"open 9-5 daily\")\n"
     ]
    }
   ],
   "source": [
    "!type zoo.py"
   ]
  },
  {
   "cell_type": "markdown",
   "id": "93b50d93",
   "metadata": {},
   "source": [
    "**1. Create a zoo.py file first. Define the hours() function, which prints the string 'Open 9-5 daily'. Then, use the interactive interpreter to import the zoo module and call its hours() function.**"
   ]
  },
  {
   "cell_type": "code",
   "execution_count": 5,
   "id": "f3500fcc",
   "metadata": {},
   "outputs": [
    {
     "name": "stdout",
     "output_type": "stream",
     "text": [
      "Open 9-5 daily\n"
     ]
    }
   ],
   "source": [
    "import zoo\n",
    "zoo.hours()\n"
   ]
  },
  {
   "cell_type": "markdown",
   "id": "0db3096e",
   "metadata": {},
   "source": [
    "**2. In the interactive interpreter, import the zoo module as menagerie and call its hours() function.**"
   ]
  },
  {
   "cell_type": "code",
   "execution_count": 8,
   "id": "9063806a",
   "metadata": {},
   "outputs": [
    {
     "name": "stdout",
     "output_type": "stream",
     "text": [
      "Open 9-5 daily\n"
     ]
    }
   ],
   "source": [
    "#print('Open 9-5 daily')\n",
    "import zoo as menagerie\n",
    "menagerie.hours()"
   ]
  },
  {
   "cell_type": "markdown",
   "id": "cf16ff45",
   "metadata": {},
   "source": [
    "**3. Using the interpreter, explicitly import and call the hours() function from zoo.**"
   ]
  },
  {
   "cell_type": "code",
   "execution_count": 9,
   "id": "464fab4b",
   "metadata": {},
   "outputs": [
    {
     "name": "stdout",
     "output_type": "stream",
     "text": [
      "Open 9-5 daily\n"
     ]
    }
   ],
   "source": [
    "from zoo import hours\n",
    "hours()"
   ]
  },
  {
   "cell_type": "markdown",
   "id": "a4144280",
   "metadata": {},
   "source": [
    "**4. Import the hours() function as info and call it.**"
   ]
  },
  {
   "cell_type": "code",
   "execution_count": 10,
   "id": "539ce606",
   "metadata": {},
   "outputs": [
    {
     "name": "stdout",
     "output_type": "stream",
     "text": [
      "Open 9-5 daily\n"
     ]
    }
   ],
   "source": [
    "from zoo import hours as info\n",
    "info()"
   ]
  },
  {
   "cell_type": "markdown",
   "id": "225323e6",
   "metadata": {},
   "source": [
    "**5. Create a plain dictionary with the key-value pairs 'a': 1, 'b': 2, and 'c': 3, and print it out.**"
   ]
  },
  {
   "cell_type": "code",
   "execution_count": 11,
   "id": "6ebae43f",
   "metadata": {},
   "outputs": [
    {
     "name": "stdout",
     "output_type": "stream",
     "text": [
      "{'a': 1, 'b': 2, 'c': 3}\n"
     ]
    }
   ],
   "source": [
    "plain_dict = {'a':1,'b':2,'c':3}\n",
    "print(plain_dict)"
   ]
  },
  {
   "cell_type": "markdown",
   "id": "c2f432b9",
   "metadata": {},
   "source": [
    "**6.Make an OrderedDict called fancy from the same pairs listed in 5 and print it. Did it print in the same order as plain?**"
   ]
  },
  {
   "cell_type": "code",
   "execution_count": 12,
   "id": "7783cc07",
   "metadata": {},
   "outputs": [
    {
     "name": "stdout",
     "output_type": "stream",
     "text": [
      "plain_dict -> {'a': 1, 'b': 2, 'c': 3}\n",
      "fancy -> OrderedDict([('a', 1), ('b', 2), ('c', 3)])\n"
     ]
    }
   ],
   "source": [
    "from collections import OrderedDict\n",
    "fancy = OrderedDict(plain_dict)\n",
    "print(f'plain_dict -> {plain_dict}')\n",
    "print(f'fancy -> {fancy}')"
   ]
  },
  {
   "cell_type": "markdown",
   "id": "848ef350",
   "metadata": {},
   "source": [
    "**7. Make a default dictionary called dict_of_lists and pass it the argument list. Make the list dict_of_lists['a'] and append the value 'something for a' to it in one assignment. Print dict_of_lists['a'].**"
   ]
  },
  {
   "cell_type": "code",
   "execution_count": 13,
   "id": "5fa092db",
   "metadata": {},
   "outputs": [
    {
     "name": "stdout",
     "output_type": "stream",
     "text": [
      "['something for a']\n"
     ]
    }
   ],
   "source": [
    "from collections import defaultdict\n",
    "dict_of_lists = defaultdict(list)\n",
    "dict_of_lists['a'].append('something for a')\n",
    "print(dict_of_lists['a'])"
   ]
  },
  {
   "cell_type": "code",
   "execution_count": null,
   "id": "820b6a72",
   "metadata": {},
   "outputs": [],
   "source": []
  }
 ],
 "metadata": {
  "kernelspec": {
   "display_name": "Python 3 (ipykernel)",
   "language": "python",
   "name": "python3"
  },
  "language_info": {
   "codemirror_mode": {
    "name": "ipython",
    "version": 3
   },
   "file_extension": ".py",
   "mimetype": "text/x-python",
   "name": "python",
   "nbconvert_exporter": "python",
   "pygments_lexer": "ipython3",
   "version": "3.9.7"
  }
 },
 "nbformat": 4,
 "nbformat_minor": 5
}
