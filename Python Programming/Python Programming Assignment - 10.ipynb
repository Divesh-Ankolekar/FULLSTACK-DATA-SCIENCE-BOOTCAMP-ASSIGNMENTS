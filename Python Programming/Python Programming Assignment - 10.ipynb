{
 "cells": [
  {
   "cell_type": "markdown",
   "id": "1f837e7c",
   "metadata": {},
   "source": [
    "# Assignment 10"
   ]
  },
  {
   "cell_type": "markdown",
   "id": "1a412aea",
   "metadata": {},
   "source": [
    "SUBMITTED BY: DIVESH ANKOLEKAR"
   ]
  },
  {
   "cell_type": "markdown",
   "id": "2eb59694",
   "metadata": {},
   "source": [
    "**1.Write a Python Program to find sum of elements in a list ?**"
   ]
  },
  {
   "cell_type": "code",
   "execution_count": 2,
   "id": "833c854f",
   "metadata": {},
   "outputs": [
    {
     "name": "stdout",
     "output_type": "stream",
     "text": [
      "Enter the No of Entries in a List: 10\n",
      "Enter a element: 8\n",
      "Enter a element: 34\n",
      "Enter a element: 21\n",
      "Enter a element: 43\n",
      "Enter a element: 22\n",
      "Enter a element: 36\n",
      "Enter a element: 43\n",
      "Enter a element: 21\n",
      "Enter a element: 42\n",
      "Enter a element: 12\n",
      "Sum of Elements: 282\n"
     ]
    }
   ],
   "source": [
    "11\n",
    "def sumofList():\n",
    "    in_ele = int(input('Enter the No of Entries in a List: '))\n",
    "    in_list = []\n",
    "    for itr in range(in_ele):\n",
    "        in_list.append(int(input('Enter a element: ')))\n",
    "    print(f'Sum of Elements: {sum(in_list)}')\n",
    "\n",
    "sumofList()"
   ]
  },
  {
   "cell_type": "markdown",
   "id": "460476d8",
   "metadata": {},
   "source": [
    "**2.Write a Python Program to multiply all numbers in the list ?**"
   ]
  },
  {
   "cell_type": "code",
   "execution_count": 3,
   "id": "a98e378d",
   "metadata": {},
   "outputs": [
    {
     "name": "stdout",
     "output_type": "stream",
     "text": [
      "Enter the No of Entries in a List: 4\n",
      "Enter a element: 12\n",
      "Enter a element: 34\n",
      "Enter a element: 12\n",
      "Enter a element: 21\n",
      "102816\n"
     ]
    }
   ],
   "source": [
    "def mulofList():\n",
    "    in_ele = int(input('Enter the No of Entries in a List: '))\n",
    "    in_list = []\n",
    "    mul = 1\n",
    "    for itr in range(in_ele):\n",
    "        in_list.append(int(input('Enter a element: ')))\n",
    "    for ele in in_list:\n",
    "        mul = mul * ele\n",
    "    print(mul)\n",
    "\n",
    "mulofList()"
   ]
  },
  {
   "cell_type": "markdown",
   "id": "0e93b395",
   "metadata": {},
   "source": [
    "**3.Write a Python Program to find smallest number in the list ?**"
   ]
  },
  {
   "cell_type": "code",
   "execution_count": 4,
   "id": "1de5bcf5",
   "metadata": {},
   "outputs": [
    {
     "name": "stdout",
     "output_type": "stream",
     "text": [
      "Enter the No of elements in a list: 4\n",
      "Enter a Element: 1\n",
      "Enter a Element: 2\n",
      "Enter a Element: 3\n",
      "Enter a Element: 4\n",
      "The Smallest Element in [1, 2, 3, 4] is 1\n"
     ]
    }
   ],
   "source": [
    "def smallEleInList():\n",
    "    in_ele = int(input('Enter the No of elements in a list: '))\n",
    "    in_list = []\n",
    "    for ele in range(in_ele):\n",
    "        in_list.append(int(input('Enter a Element: ')))\n",
    "    print(f'The Smallest Element in {in_list} is {sorted(in_list)[0]}')\n",
    "smallEleInList()"
   ]
  },
  {
   "cell_type": "markdown",
   "id": "c37c0bd3",
   "metadata": {},
   "source": [
    "**4.Write a Python Program to find largest number in the list ?**"
   ]
  },
  {
   "cell_type": "code",
   "execution_count": 5,
   "id": "b44d899d",
   "metadata": {},
   "outputs": [
    {
     "name": "stdout",
     "output_type": "stream",
     "text": [
      "Enter the No of elements in a list: 5\n",
      "Enter a Element: 123\n",
      "Enter a Element: 435\n",
      "Enter a Element: 231\n",
      "Enter a Element: 324\n",
      "Enter a Element: 62\n",
      "The Largest Element in [123, 435, 231, 324, 62] is 435\n"
     ]
    }
   ],
   "source": [
    "def largestEleInList():\n",
    "    in_ele = int(input('Enter the No of elements in a list: '))\n",
    "    in_list = []\n",
    "    for ele in range(in_ele):\n",
    "        in_list.append(int(input('Enter a Element: ')))\n",
    "    print(f'The Largest Element in {in_list} is {sorted(in_list, reverse=True)[0]}')\n",
    "\n",
    "largestEleInList()"
   ]
  },
  {
   "cell_type": "markdown",
   "id": "8c7f0e92",
   "metadata": {},
   "source": [
    "**5.Write a Python Program to find second largest number in the list ?**"
   ]
  },
  {
   "cell_type": "code",
   "execution_count": 6,
   "id": "40f65d00",
   "metadata": {},
   "outputs": [
    {
     "name": "stdout",
     "output_type": "stream",
     "text": [
      "Enter the No of elements in a list: 6\n",
      "Enter a Element: 52\n",
      "Enter a Element: 53\n",
      "Enter a Element: 762\n",
      "Enter a Element: 321\n",
      "Enter a Element: 522\n",
      "Enter a Element: 321\n",
      "The Second Largest Element in [52, 53, 762, 321, 522, 321] is 522\n"
     ]
    }
   ],
   "source": [
    "def secondLargestEleInList():\n",
    "    in_ele = int(input('Enter the No of elements in a list: '))\n",
    "    in_list = []\n",
    "    for ele in range(in_ele):\n",
    "        in_list.append(int(input('Enter a Element: ')))\n",
    "    print(f'The Second Largest Element in {in_list} is {sorted(in_list, reverse=True)[1]}')\n",
    "\n",
    "secondLargestEleInList()"
   ]
  },
  {
   "cell_type": "markdown",
   "id": "f0927e78",
   "metadata": {},
   "source": [
    "**6.Write a Python Program to find N largest elements in the list ?**"
   ]
  },
  {
   "cell_type": "code",
   "execution_count": 8,
   "id": "2a2452e4",
   "metadata": {},
   "outputs": [
    {
     "name": "stdout",
     "output_type": "stream",
     "text": [
      "Enter the No of elements in a list: 8\n",
      "Enter a Element: 5234\n",
      "Enter a Element: 5423\n",
      "Enter a Element: 253\n",
      "Enter a Element: 2521\n",
      "Enter a Element: 1261\n",
      "Enter a Element: 1423\n",
      "Enter a Element: 12413\n",
      "Enter a Element: 2353\n",
      "The 4 Largest Element in [5234, 5423, 253, 2521, 1261, 1423, 12413, 2353] is [12413, 5423, 5234, 2521]\n"
     ]
    }
   ],
   "source": [
    "def nLargestEleInList(k):\n",
    "    in_ele = int(input('Enter the No of elements in a list: '))\n",
    "    in_list = []\n",
    "    for ele in range(in_ele):\n",
    "        in_list.append(int(input('Enter a Element: ')))\n",
    "    print(f'The {k} Largest Element in {in_list} is {sorted(in_list, reverse=True)[0:k]}')\n",
    "\n",
    "nLargestEleInList(4)"
   ]
  },
  {
   "cell_type": "markdown",
   "id": "eca6e398",
   "metadata": {},
   "source": [
    "**7.Write a Python Program to find even numbers in the list ?**"
   ]
  },
  {
   "cell_type": "code",
   "execution_count": 9,
   "id": "2f2cb2b8",
   "metadata": {},
   "outputs": [
    {
     "name": "stdout",
     "output_type": "stream",
     "text": [
      "Enter the No of elements in a list: 10\n",
      "Enter a Element: 52\n",
      "Enter a Element: 72\n",
      "Enter a Element: 45\n",
      "Enter a Element: 73\n",
      "Enter a Element: 73\n",
      "Enter a Element: 46\n",
      "Enter a Element: 52\n",
      "Enter a Element: 295\n",
      "Enter a Element: 32534\n",
      "Enter a Element: 62\n",
      "The Even Elements in [52, 72, 45, 73, 73, 46, 52, 295, 32534, 62] are [52, 72, 46, 52, 32534, 62]\n"
     ]
    }
   ],
   "source": [
    "def evenNoInList():\n",
    "    in_ele = int(input('Enter the No of elements in a list: '))\n",
    "    in_list = []\n",
    "    even_list = []\n",
    "    for ele in range(in_ele):\n",
    "        in_list.append(int(input('Enter a Element: ')))\n",
    "    for ele in in_list:\n",
    "        if ele%2 == 0:\n",
    "            even_list.append(ele)\n",
    "    print(f'The Even Elements in {in_list} are {even_list}')\n",
    "\n",
    "evenNoInList()"
   ]
  },
  {
   "cell_type": "markdown",
   "id": "975a611a",
   "metadata": {},
   "source": [
    "**8.Write a Python Program to find odd numbers in the list ?**"
   ]
  },
  {
   "cell_type": "code",
   "execution_count": 1,
   "id": "7dc34ac0",
   "metadata": {},
   "outputs": [
    {
     "name": "stdout",
     "output_type": "stream",
     "text": [
      "Enter the No of elements in a list: 8\n",
      "Enter a Element: 38\n",
      "Enter a Element: 33\n",
      "Enter a Element: 26\n",
      "Enter a Element: 388\n",
      "Enter a Element: 48\n",
      "Enter a Element: 35\n",
      "Enter a Element: 29\n",
      "Enter a Element: 34\n",
      "The Odd Elements in [38, 33, 26, 388, 48, 35, 29, 34] are [33, 35, 29]\n"
     ]
    }
   ],
   "source": [
    "def oddNoInList():\n",
    "    in_ele = int(input('Enter the No of elements in a list: '))\n",
    "    in_list = []\n",
    "    odd_list = []\n",
    "    for ele in range(in_ele):\n",
    "        in_list.append(int(input('Enter a Element: ')))\n",
    "    for ele in in_list:\n",
    "        if ele%2 != 0:\n",
    "            odd_list.append(ele)\n",
    "    print(f'The Odd Elements in {in_list} are {odd_list}')\n",
    "\n",
    "oddNoInList()"
   ]
  },
  {
   "cell_type": "markdown",
   "id": "b753aa35",
   "metadata": {},
   "source": [
    "**9.Write a Python Program to remove empty list from list ?**"
   ]
  },
  {
   "cell_type": "code",
   "execution_count": 6,
   "id": "11f5e19a",
   "metadata": {},
   "outputs": [
    {
     "name": "stdout",
     "output_type": "stream",
     "text": [
      "Enter all elements of the list: [4,2,3,6,4,7,5,[],2,3,12]\n",
      "There is an Empty list in [4, 2, 3, 6, 4, 7, 5, [], 2, 3, 12] at Position 7\n",
      "The List after removing [] is [4, 2, 3, 6, 4, 7, 5, 2, 3, 12]\n"
     ]
    }
   ],
   "source": [
    "def checkEmptyList():\n",
    "    in_list = eval(input('Enter all elements of the list: '))\n",
    "    if [] in in_list:\n",
    "        print(f'There is an Empty list in {in_list} at Position {in_list.index([])}')\n",
    "        in_list.remove([])\n",
    "        print(f'The List after removing [] is {in_list}')\n",
    "    else:\n",
    "        print(f'There is no [] List in the list {in_list}')\n",
    "        \n",
    "checkEmptyList()"
   ]
  },
  {
   "cell_type": "markdown",
   "id": "06dcefe8",
   "metadata": {},
   "source": [
    "**10.Write a Python Program to Cloning or Copying a list ?**"
   ]
  },
  {
   "cell_type": "code",
   "execution_count": 10,
   "id": "bb4f5a19",
   "metadata": {},
   "outputs": [
    {
     "name": "stdout",
     "output_type": "stream",
     "text": [
      "Enter a list[1,2,3,4,5,6,7,8,9,0]\n",
      "[1, 2, 3, 4, 5, 6, 7, 8, 9, 0] 2570979805696\n",
      "[1, 2, 3, 4, 5, 6, 7, 8, 9, 0] 2570979077312\n"
     ]
    }
   ],
   "source": [
    "import copy\n",
    "\n",
    "def cloneList():\n",
    "    in_list = eval(input('Enter a list'))\n",
    "    print(in_list, id(in_list))\n",
    "    cloned_list = in_list.copy()\n",
    "    print(cloned_list, id(cloned_list))\n",
    "\n",
    "cloneList()"
   ]
  },
  {
   "cell_type": "markdown",
   "id": "0f299a4d",
   "metadata": {},
   "source": [
    "**11.Write a Python Program to count occurences of an element in a list ?**"
   ]
  },
  {
   "cell_type": "code",
   "execution_count": 11,
   "id": "7e450187",
   "metadata": {},
   "outputs": [
    {
     "name": "stdout",
     "output_type": "stream",
     "text": [
      "Enter the elements of the list: [1,2,3,2,1,2,3,4,5,6,7,8,6,9,9,0,8,6,4,3]\n",
      "Enter the element to find: 8\n",
      "There are 2 occurences of 8 in [1, 2, 3, 2, 1, 2, 3, 4, 5, 6, 7, 8, 6, 9, 9, 0, 8, 6, 4, 3]\n"
     ]
    }
   ],
   "source": [
    "def checkOccurence():\n",
    "    in_list = eval(input('Enter the elements of the list: '))\n",
    "    in_num = eval(input('Enter the element to find: '))\n",
    "    count = 0\n",
    "    if in_num in in_list:\n",
    "        for ele in in_list:\n",
    "            if ele == in_num:\n",
    "                count = count+1\n",
    "    print(f'There are {count} occurences of {in_num} in {in_list}')\n",
    "    \n",
    "checkOccurence()"
   ]
  }
 ],
 "metadata": {
  "kernelspec": {
   "display_name": "Python 3 (ipykernel)",
   "language": "python",
   "name": "python3"
  },
  "language_info": {
   "codemirror_mode": {
    "name": "ipython",
    "version": 3
   },
   "file_extension": ".py",
   "mimetype": "text/x-python",
   "name": "python",
   "nbconvert_exporter": "python",
   "pygments_lexer": "ipython3",
   "version": "3.9.7"
  }
 },
 "nbformat": 4,
 "nbformat_minor": 5
}
