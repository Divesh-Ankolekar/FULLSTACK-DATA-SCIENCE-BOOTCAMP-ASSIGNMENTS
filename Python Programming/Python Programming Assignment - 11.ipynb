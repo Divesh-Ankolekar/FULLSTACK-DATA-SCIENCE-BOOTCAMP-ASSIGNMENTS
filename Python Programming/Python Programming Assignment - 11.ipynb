{
 "cells": [
  {
   "cell_type": "markdown",
   "id": "350882ff",
   "metadata": {},
   "source": [
    "# Assignment 11"
   ]
  },
  {
   "cell_type": "markdown",
   "id": "2ea05797",
   "metadata": {},
   "source": [
    "SUBMITTED BY: DIVESH ANKOLEKAR"
   ]
  },
  {
   "cell_type": "markdown",
   "id": "03311e35",
   "metadata": {},
   "source": [
    "**1. Write a Python program to find words which are greater than given length k ?**"
   ]
  },
  {
   "cell_type": "code",
   "execution_count": 3,
   "id": "c28bfc2e",
   "metadata": {},
   "outputs": [
    {
     "name": "stdout",
     "output_type": "stream",
     "text": [
      "Enter the string: iNeuron Fullstack Data Science Bootcamp\n",
      "Enter the length of the string: 5\n",
      "iNeuron,Fullstack,Science,Bootcamp\n"
     ]
    }
   ],
   "source": [
    "def checkLengthOfString():\n",
    "    in_string = input(\"Enter the string: \")\n",
    "    in_length = int(input('Enter the length of the string: '))\n",
    "    out_string = []\n",
    "    for string in in_string.split(\" \"):\n",
    "        if len(string) > in_length:\n",
    "            out_string.append(string)\n",
    "    print(','.join(out_string))\n",
    "\n",
    "checkLengthOfString()"
   ]
  },
  {
   "cell_type": "markdown",
   "id": "135bea20",
   "metadata": {},
   "source": [
    "**2. Write a Python program for removing i-th character from a string ?**"
   ]
  },
  {
   "cell_type": "code",
   "execution_count": 4,
   "id": "dc220486",
   "metadata": {},
   "outputs": [
    {
     "name": "stdout",
     "output_type": "stream",
     "text": [
      "Enter the String: Divesh\n",
      "Enter the ith Character: 4\n",
      "Diveh\n"
     ]
    }
   ],
   "source": [
    "def removeCharacter():\n",
    "    in_string = input(\"Enter the String: \")\n",
    "    in_char_num = int(input(\"Enter the ith Character: \"))\n",
    "    out_string = ''\n",
    "    for ele in range(len(in_string)):\n",
    "        if ele != in_char_num:\n",
    "            out_string = out_string + in_string[ele]\n",
    "    print(out_string)\n",
    "    \n",
    "removeCharacter()"
   ]
  },
  {
   "cell_type": "markdown",
   "id": "739ee301",
   "metadata": {},
   "source": [
    "**3. Write a Python program to split and join a string ?**"
   ]
  },
  {
   "cell_type": "code",
   "execution_count": 5,
   "id": "87af4d8b",
   "metadata": {},
   "outputs": [
    {
     "name": "stdout",
     "output_type": "stream",
     "text": [
      "Enter the string: iNeuron Fullstack Data Science Bootcamp\n",
      "Split String: ['iNeuron', 'Fullstack', 'Data', 'Science', 'Bootcamp']\n",
      "Join String: iNeuron Fullstack Data Science Bootcamp\n"
     ]
    }
   ],
   "source": [
    "def splitJoinString():\n",
    "    in_string = input('Enter the string: ')\n",
    "    print(f\"Split String: {in_string.split(' ')}\")\n",
    "    print(f\"Join String: {' '.join(in_string.split(' '))}\")\n",
    "\n",
    "splitJoinString()"
   ]
  },
  {
   "cell_type": "markdown",
   "id": "db7da4b9",
   "metadata": {},
   "source": [
    "**4. Write a Python to check if a given string is binary string or not ?**"
   ]
  },
  {
   "cell_type": "code",
   "execution_count": 8,
   "id": "8cfd82b8",
   "metadata": {},
   "outputs": [
    {
     "name": "stdout",
     "output_type": "stream",
     "text": [
      "Enter the string: 5678\n",
      "5678 is not a binart string\n",
      "Enter the string: 01110110\n",
      "01110110 is a binary string\n"
     ]
    }
   ],
   "source": [
    "def checkBinary():\n",
    "    in_string = input('Enter the string: ')\n",
    "    stun = 0\n",
    "    for ele in in_string:\n",
    "        if ele in ['0','1']:\n",
    "            stun = 1\n",
    "            continue\n",
    "        else:\n",
    "            stun = 0\n",
    "            break\n",
    "    statement = 'is a binary string' if stun == 1 else 'is not a binart string' \n",
    "    print(f'{in_string} {statement}')\n",
    "\n",
    "checkBinary()\n",
    "checkBinary()\n"
   ]
  },
  {
   "cell_type": "markdown",
   "id": "1e69bc12",
   "metadata": {},
   "source": [
    "**5. Write a Python program to find uncommon words from two Strings ?**"
   ]
  },
  {
   "cell_type": "code",
   "execution_count": 10,
   "id": "2e251327",
   "metadata": {},
   "outputs": [
    {
     "name": "stdout",
     "output_type": "stream",
     "text": [
      "Enter the String 1: Krish Data Scientist\n",
      "Enter the String 2: Sudhanshu Data Scientist\n",
      "{'Sudhanshu', 'Krish'}\n"
     ]
    }
   ],
   "source": [
    "def unCommonWords():\n",
    "    in_string_1 = set(input(\"Enter the String 1: \").split(' '))\n",
    "    in_string_2 = set(input(\"Enter the String 2: \").split(' '))\n",
    "    out_string = (in_string_1.union(in_string_2)).difference(in_string_1.intersection(in_string_2))\n",
    "    print(out_string)\n",
    "\n",
    "unCommonWords()"
   ]
  },
  {
   "cell_type": "markdown",
   "id": "acd978d4",
   "metadata": {},
   "source": [
    "**6. Write a Python to find all duplicate characters in string ?**"
   ]
  },
  {
   "cell_type": "code",
   "execution_count": 11,
   "id": "1b7689bd",
   "metadata": {},
   "outputs": [
    {
     "name": "stdout",
     "output_type": "stream",
     "text": [
      "Enter the string: dfkjgbdsvjhdfvuryebfvh\n",
      "Duplicate characters are: ['d', 'j', 'b', 'f', 'v', 'h']\n"
     ]
    }
   ],
   "source": [
    "def duplicateChars():\n",
    "    in_string = input('Enter the string: ')\n",
    "    non_duplicate_list = []\n",
    "    duplicate_list = []\n",
    "    for ele in in_string:\n",
    "        if ele not in non_duplicate_list:\n",
    "            non_duplicate_list.append(ele)\n",
    "        else:\n",
    "            duplicate_list.append(ele)\n",
    "    print(f'Duplicate characters are: {list(set(duplicate_list))}')\n",
    "        \n",
    "duplicateChars()"
   ]
  },
  {
   "cell_type": "markdown",
   "id": "4fd672bb",
   "metadata": {},
   "source": [
    "**7. Write a Python Program to check if a string contains any special character?**"
   ]
  },
  {
   "cell_type": "code",
   "execution_count": 12,
   "id": "8649887d",
   "metadata": {},
   "outputs": [
    {
     "name": "stdout",
     "output_type": "stream",
     "text": [
      "Enter the string: diveshankolekar@gmail.com\n",
      "There are 1 Specialal Characters in diveshankolekar@gmail.com which are ['@']\n",
      "Enter the string: #Data Scientist @ iNeuron\n",
      "There are 2 Specialal Characters in #Data Scientist @ iNeuron which are ['#', '@']\n"
     ]
    }
   ],
   "source": [
    "def checkSpecialChar():\n",
    "    spl_chars = '[@_!#$%^&*()<>?/\\|}{~:]'\n",
    "    in_num = input('Enter the string: ')\n",
    "    count = 0\n",
    "    char_list = []\n",
    "    for ele in in_num:\n",
    "        if ele in spl_chars:\n",
    "            char_list.append(ele)\n",
    "            count = count+1\n",
    "    print(f'There are {count} Specialal Characters in {in_num} which are {char_list}')\n",
    "            \n",
    "        \n",
    "checkSpecialChar()\n",
    "checkSpecialChar()"
   ]
  }
 ],
 "metadata": {
  "kernelspec": {
   "display_name": "Python 3 (ipykernel)",
   "language": "python",
   "name": "python3"
  },
  "language_info": {
   "codemirror_mode": {
    "name": "ipython",
    "version": 3
   },
   "file_extension": ".py",
   "mimetype": "text/x-python",
   "name": "python",
   "nbconvert_exporter": "python",
   "pygments_lexer": "ipython3",
   "version": "3.9.7"
  }
 },
 "nbformat": 4,
 "nbformat_minor": 5
}
