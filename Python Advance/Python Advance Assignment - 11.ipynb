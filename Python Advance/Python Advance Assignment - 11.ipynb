{
 "cells": [
  {
   "cell_type": "markdown",
   "id": "567f0d6f",
   "metadata": {},
   "source": [
    "# Assignment 11"
   ]
  },
  {
   "cell_type": "markdown",
   "id": "a4f22de2",
   "metadata": {},
   "source": [
    "SUBMITTED BY: DIVESH ANKOLEKAR"
   ]
  },
  {
   "cell_type": "markdown",
   "id": "df5f5f47",
   "metadata": {},
   "source": [
    "**Q1. What is the concept of a metaclass?**\n",
    "\n",
    "**Ans:** Metaclass in Python is a class of a class that defines how a class behaves. A class is itself a instance of Metaclass, and any Instance of Class in Python is an Instance of type metaclass. E.g. Type of of **int, str, float, list, tuple** and many more is of metaclass type."
   ]
  },
  {
   "cell_type": "code",
   "execution_count": null,
   "id": "3fbf46ff",
   "metadata": {},
   "outputs": [],
   "source": [
    "# our metaclass\n",
    "class MultiBases(type):\n",
    "    # overriding __new__ method\n",
    "    def __new__(cls, clsname, bases, clsdict):\n",
    "        # if no of base classes is greater than 1\n",
    "        # raise error\n",
    "        if len(bases)>1:\n",
    "            raise TypeError(\"Inherited multiple base classes!!!\")\n",
    "\n",
    "        # else execute __new__ method of super class, ie.\n",
    "        # call __init__ of type class\n",
    "        return super().__new__(cls, clsname, bases, clsdict)\n",
    "\n",
    "# metaclass can be specified by 'metaclass' keyword argument\n",
    "# now MultiBase class is used for creating classes\n",
    "# this will be propagated to all subclasses of Base\n",
    "class Base(metaclass=MultiBases):\n",
    "        pass\n",
    "\n",
    "# no error is raised\n",
    "class A(Base):\n",
    "    pass\n",
    "\n",
    "# no error is raised\n",
    "class B(Base):\n",
    "    pass\n",
    "\n",
    "# This will raise an error!\n",
    "class C(A, B):\n",
    "    pass"
   ]
  },
  {
   "cell_type": "markdown",
   "id": "f4b685dc",
   "metadata": {},
   "source": [
    "**Q2. What is the best way to declare a class's metaclass?**\n",
    "\n",
    "**Ans:** A way to declare a class’ **metaclass** is by using metaclass keyword in class definition."
   ]
  },
  {
   "cell_type": "code",
   "execution_count": 6,
   "id": "49e39c42",
   "metadata": {},
   "outputs": [
    {
     "name": "stdout",
     "output_type": "stream",
     "text": [
      "<class 'type'>\n",
      "<class '__main__.meta'>\n"
     ]
    }
   ],
   "source": [
    "class meta(type):\n",
    "    pass\n",
    "class class_meta(metaclass=meta):\n",
    "    pass\n",
    "print(type(meta))\n",
    "print(type(class_meta))"
   ]
  },
  {
   "cell_type": "markdown",
   "id": "19733fab",
   "metadata": {},
   "source": [
    "**Q3. How do class decorators overlap with metaclasses for handling classes ?**\n",
    "\n",
    "**Ans:** Anything you can do with a class decorator, you can of course do with a custom metaclasses (just apply the functionality of the \"decorator function\", i.e., the one that takes a class object and modifies it, in the course of the metaclass's **__ new __** or **__ init __** that make the class object!).\n",
    "\n",
    "**Q4. How do class decorators overlap with metaclasses for handling instances?**\n",
    "\n",
    "**Ans:** Anything you can do with a class decorator, you can of course do with a custom metaclass (just apply the functionality of the \"decorator function\", i.e., the one that takes a class object and modifies it, in the course of the metaclass's **__ new __** or **__ init __** that make the class object!)."
   ]
  }
 ],
 "metadata": {
  "kernelspec": {
   "display_name": "Python 3 (ipykernel)",
   "language": "python",
   "name": "python3"
  },
  "language_info": {
   "codemirror_mode": {
    "name": "ipython",
    "version": 3
   },
   "file_extension": ".py",
   "mimetype": "text/x-python",
   "name": "python",
   "nbconvert_exporter": "python",
   "pygments_lexer": "ipython3",
   "version": "3.9.7"
  }
 },
 "nbformat": 4,
 "nbformat_minor": 5
}
